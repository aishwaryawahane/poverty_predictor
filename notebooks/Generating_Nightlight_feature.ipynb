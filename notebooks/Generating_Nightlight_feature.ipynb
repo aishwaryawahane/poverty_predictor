{
 "cells": [
  {
   "cell_type": "markdown",
   "metadata": {},
   "source": [
    "## Generating DHS + Nightlights dataset"
   ]
  },
  {
   "cell_type": "markdown",
   "metadata": {},
   "source": [
    "Importing DHS Survey data and nightlights features"
   ]
  },
  {
   "cell_type": "code",
   "execution_count": 1,
   "metadata": {},
   "outputs": [],
   "source": [
    "# Magic commands to enable autoreload of imported packages\n",
    "%load_ext autoreload\n",
    "%autoreload 2"
   ]
  },
  {
   "cell_type": "code",
   "execution_count": 4,
   "metadata": {},
   "outputs": [],
   "source": [
    "from poverty_predictor.get_dhsdata import GetDHSData\n",
    "from poverty_predictor.merge_dataframes import merge_dhs, merge_night_dhs"
   ]
  },
  {
   "cell_type": "markdown",
   "metadata": {},
   "source": [
    "Fetching DHS data"
   ]
  },
  {
   "cell_type": "code",
   "execution_count": 5,
   "metadata": {},
   "outputs": [],
   "source": [
    "data = GetDHSData()\n",
    "gps_df = data.gps_df()\n",
    "survey_df = data.survey_df()"
   ]
  },
  {
   "cell_type": "code",
   "execution_count": 6,
   "metadata": {},
   "outputs": [
    {
     "data": {
      "text/html": [
       "<div>\n",
       "<style scoped>\n",
       "    .dataframe tbody tr th:only-of-type {\n",
       "        vertical-align: middle;\n",
       "    }\n",
       "\n",
       "    .dataframe tbody tr th {\n",
       "        vertical-align: top;\n",
       "    }\n",
       "\n",
       "    .dataframe thead th {\n",
       "        text-align: right;\n",
       "    }\n",
       "</style>\n",
       "<table border=\"1\" class=\"dataframe\">\n",
       "  <thead>\n",
       "    <tr style=\"text-align: right;\">\n",
       "      <th></th>\n",
       "      <th>Cluster Number</th>\n",
       "      <th>Latitude</th>\n",
       "      <th>Longitude</th>\n",
       "      <th>Wealth Score</th>\n",
       "    </tr>\n",
       "  </thead>\n",
       "  <tbody>\n",
       "    <tr>\n",
       "      <th>0</th>\n",
       "      <td>1.0</td>\n",
       "      <td>-2.532818</td>\n",
       "      <td>29.684726</td>\n",
       "      <td>-0.386620</td>\n",
       "    </tr>\n",
       "    <tr>\n",
       "      <th>1</th>\n",
       "      <td>2.0</td>\n",
       "      <td>-1.833858</td>\n",
       "      <td>30.310689</td>\n",
       "      <td>-0.421574</td>\n",
       "    </tr>\n",
       "    <tr>\n",
       "      <th>2</th>\n",
       "      <td>3.0</td>\n",
       "      <td>-1.888155</td>\n",
       "      <td>29.478298</td>\n",
       "      <td>-0.449724</td>\n",
       "    </tr>\n",
       "    <tr>\n",
       "      <th>3</th>\n",
       "      <td>4.0</td>\n",
       "      <td>-2.366763</td>\n",
       "      <td>30.521692</td>\n",
       "      <td>-0.390006</td>\n",
       "    </tr>\n",
       "    <tr>\n",
       "      <th>4</th>\n",
       "      <td>5.0</td>\n",
       "      <td>-2.171266</td>\n",
       "      <td>30.018541</td>\n",
       "      <td>-0.416924</td>\n",
       "    </tr>\n",
       "    <tr>\n",
       "      <th>5</th>\n",
       "      <td>6.0</td>\n",
       "      <td>-2.036917</td>\n",
       "      <td>30.114591</td>\n",
       "      <td>-0.050272</td>\n",
       "    </tr>\n",
       "    <tr>\n",
       "      <th>6</th>\n",
       "      <td>7.0</td>\n",
       "      <td>-1.768636</td>\n",
       "      <td>29.799135</td>\n",
       "      <td>-0.396406</td>\n",
       "    </tr>\n",
       "    <tr>\n",
       "      <th>7</th>\n",
       "      <td>8.0</td>\n",
       "      <td>-1.769425</td>\n",
       "      <td>29.967649</td>\n",
       "      <td>-0.136730</td>\n",
       "    </tr>\n",
       "    <tr>\n",
       "      <th>8</th>\n",
       "      <td>9.0</td>\n",
       "      <td>-1.974834</td>\n",
       "      <td>30.111135</td>\n",
       "      <td>2.512280</td>\n",
       "    </tr>\n",
       "    <tr>\n",
       "      <th>9</th>\n",
       "      <td>10.0</td>\n",
       "      <td>-2.038221</td>\n",
       "      <td>30.310015</td>\n",
       "      <td>0.567510</td>\n",
       "    </tr>\n",
       "  </tbody>\n",
       "</table>\n",
       "</div>"
      ],
      "text/plain": [
       "   Cluster Number  Latitude  Longitude  Wealth Score\n",
       "0             1.0 -2.532818  29.684726     -0.386620\n",
       "1             2.0 -1.833858  30.310689     -0.421574\n",
       "2             3.0 -1.888155  29.478298     -0.449724\n",
       "3             4.0 -2.366763  30.521692     -0.390006\n",
       "4             5.0 -2.171266  30.018541     -0.416924\n",
       "5             6.0 -2.036917  30.114591     -0.050272\n",
       "6             7.0 -1.768636  29.799135     -0.396406\n",
       "7             8.0 -1.769425  29.967649     -0.136730\n",
       "8             9.0 -1.974834  30.111135      2.512280\n",
       "9            10.0 -2.038221  30.310015      0.567510"
      ]
     },
     "execution_count": 6,
     "metadata": {},
     "output_type": "execute_result"
    }
   ],
   "source": [
    "dhs_data = merge_dhs(gps_df, survey_df)\n",
    "dhs_data.head(10)"
   ]
  },
  {
   "cell_type": "markdown",
   "metadata": {},
   "source": [
    "Creating nightlight features and combining these features with DHS data"
   ]
  },
  {
   "cell_type": "code",
   "execution_count": 13,
   "metadata": {},
   "outputs": [],
   "source": [
    "tiff_path = \"../data/Rwanda_10/Nightlights/nightlights.tif\"\n",
    "nightlight_dhs_df = merge_night_dhs(dhs_data, tiff_path)"
   ]
  },
  {
   "cell_type": "markdown",
   "metadata": {},
   "source": [
    "Saving the combined dataframe in csv format."
   ]
  },
  {
   "cell_type": "code",
   "execution_count": 17,
   "metadata": {},
   "outputs": [],
   "source": [
    "nightlight_dhs_df.to_csv(\"../data/Rwanda_10/DHS_Nightlights/DHS_Nightlights_data.csv\", index=False)"
   ]
  }
 ],
 "metadata": {
  "kernelspec": {
   "display_name": "Python 3",
   "language": "python",
   "name": "python3"
  },
  "language_info": {
   "codemirror_mode": {
    "name": "ipython",
    "version": 3
   },
   "file_extension": ".py",
   "mimetype": "text/x-python",
   "name": "python",
   "nbconvert_exporter": "python",
   "pygments_lexer": "ipython3",
   "version": "3.7.7"
  }
 },
 "nbformat": 4,
 "nbformat_minor": 4
}
