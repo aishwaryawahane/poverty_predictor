{
 "cells": [
  {
   "cell_type": "markdown",
   "metadata": {},
   "source": [
    "## Reading the DHS + Nightlights dataset"
   ]
  },
  {
   "cell_type": "markdown",
   "metadata": {},
   "source": [
    "**Incase DHS + Nightlights data isn't generated,** please follow the steps [below](#generating_dataset) for generating the dataset."
   ]
  },
  {
   "cell_type": "code",
   "execution_count": 9,
   "metadata": {},
   "outputs": [],
   "source": [
    "import pandas as pd\n",
    "import seaborn as sns\n",
    "import matplotlib.pyplot as plt\n",
    "import statsmodels.api as sm"
   ]
  },
  {
   "cell_type": "code",
   "execution_count": 2,
   "metadata": {},
   "outputs": [],
   "source": [
    "dhs_nightlights_df = pd.read_csv(\"../data/DHS_Nightlights/Rwanda/DHS_Nightlights_data.csv\")"
   ]
  },
  {
   "cell_type": "code",
   "execution_count": 3,
   "metadata": {},
   "outputs": [
    {
     "data": {
      "text/html": [
       "<div>\n",
       "<style scoped>\n",
       "    .dataframe tbody tr th:only-of-type {\n",
       "        vertical-align: middle;\n",
       "    }\n",
       "\n",
       "    .dataframe tbody tr th {\n",
       "        vertical-align: top;\n",
       "    }\n",
       "\n",
       "    .dataframe thead th {\n",
       "        text-align: right;\n",
       "    }\n",
       "</style>\n",
       "<table border=\"1\" class=\"dataframe\">\n",
       "  <thead>\n",
       "    <tr style=\"text-align: right;\">\n",
       "      <th></th>\n",
       "      <th>Cluster Number</th>\n",
       "      <th>Mean_nightlight</th>\n",
       "      <th>Wealth Score</th>\n",
       "    </tr>\n",
       "  </thead>\n",
       "  <tbody>\n",
       "    <tr>\n",
       "      <th>0</th>\n",
       "      <td>1.0</td>\n",
       "      <td>0.06</td>\n",
       "      <td>-0.386620</td>\n",
       "    </tr>\n",
       "    <tr>\n",
       "      <th>1</th>\n",
       "      <td>2.0</td>\n",
       "      <td>0.00</td>\n",
       "      <td>-0.421574</td>\n",
       "    </tr>\n",
       "    <tr>\n",
       "      <th>2</th>\n",
       "      <td>3.0</td>\n",
       "      <td>0.00</td>\n",
       "      <td>-0.449724</td>\n",
       "    </tr>\n",
       "    <tr>\n",
       "      <th>3</th>\n",
       "      <td>4.0</td>\n",
       "      <td>0.00</td>\n",
       "      <td>-0.390006</td>\n",
       "    </tr>\n",
       "    <tr>\n",
       "      <th>4</th>\n",
       "      <td>5.0</td>\n",
       "      <td>0.00</td>\n",
       "      <td>-0.416924</td>\n",
       "    </tr>\n",
       "  </tbody>\n",
       "</table>\n",
       "</div>"
      ],
      "text/plain": [
       "   Cluster Number  Mean_nightlight  Wealth Score\n",
       "0             1.0             0.06     -0.386620\n",
       "1             2.0             0.00     -0.421574\n",
       "2             3.0             0.00     -0.449724\n",
       "3             4.0             0.00     -0.390006\n",
       "4             5.0             0.00     -0.416924"
      ]
     },
     "execution_count": 3,
     "metadata": {},
     "output_type": "execute_result"
    }
   ],
   "source": [
    "dhs_nightlights_df.head()"
   ]
  },
  {
   "cell_type": "code",
   "execution_count": 4,
   "metadata": {
    "scrolled": true
   },
   "outputs": [
    {
     "data": {
      "image/png": "[encoded data removed]",
      "text/plain": [
       "<Figure size 432x288 with 1 Axes>"
      ]
     },
     "metadata": {
      "needs_background": "light"
     },
     "output_type": "display_data"
    }
   ],
   "source": [
    "sns.regplot(x = \"Mean_nightlight\", y = \"Wealth Score\", data = dhs_nightlights_df);\n",
    "plt.xlabel(\"Average Nighttime Luminous Intensity\");\n",
    "plt.ylabel(\"Average Wealth of Clusters\");\n",
    "# plt.savefig('../graphs/Rwanda/wealthscore_luminosity.png')"
   ]
  },
  {
   "cell_type": "code",
   "execution_count": 26,
   "metadata": {},
   "outputs": [
    {
     "data": {
      "text/plain": [
       "<AxesSubplot:>"
      ]
     },
     "execution_count": 26,
     "metadata": {},
     "output_type": "execute_result"
    },
    {
     "data": {
      "image/png": "[encoded data removed]",
      "text/plain": [
       "<Figure size 432x288 with 2 Axes>"
      ]
     },
     "metadata": {
      "needs_background": "light"
     },
     "output_type": "display_data"
    }
   ],
   "source": [
    "sns.heatmap(dhs_nightlights_df.corr(), cmap='Blues')"
   ]
  },
  {
   "cell_type": "markdown",
   "metadata": {},
   "source": [
    "The graphs suggest that brighter areas tend to be more richer. But, we would need something more than a visual representation to find if there exists a correlation between these."
   ]
  },
  {
   "cell_type": "code",
   "execution_count": 13,
   "metadata": {},
   "outputs": [
    {
     "data": {
      "text/html": [
       "<style  type=\"text/css\" >\n",
       "#T_f471fe66_6695_11eb_9e24_b29c4ac47a16row0_col0,#T_f471fe66_6695_11eb_9e24_b29c4ac47a16row0_col1,#T_f471fe66_6695_11eb_9e24_b29c4ac47a16row0_col2,#T_f471fe66_6695_11eb_9e24_b29c4ac47a16row1_col0,#T_f471fe66_6695_11eb_9e24_b29c4ac47a16row1_col1,#T_f471fe66_6695_11eb_9e24_b29c4ac47a16row2_col0,#T_f471fe66_6695_11eb_9e24_b29c4ac47a16row2_col2{\n",
       "            color:  grey;\n",
       "        }#T_f471fe66_6695_11eb_9e24_b29c4ac47a16row1_col2,#T_f471fe66_6695_11eb_9e24_b29c4ac47a16row2_col1{\n",
       "            color:  blue;\n",
       "        }</style><table id=\"T_f471fe66_6695_11eb_9e24_b29c4ac47a16\" ><thead>    <tr>        <th class=\"blank level0\" ></th>        <th class=\"col_heading level0 col0\" >Cluster Number</th>        <th class=\"col_heading level0 col1\" >Mean_nightlight</th>        <th class=\"col_heading level0 col2\" >Wealth Score</th>    </tr></thead><tbody>\n",
       "                <tr>\n",
       "                        <th id=\"T_f471fe66_6695_11eb_9e24_b29c4ac47a16level0_row0\" class=\"row_heading level0 row0\" >Cluster Number</th>\n",
       "                        <td id=\"T_f471fe66_6695_11eb_9e24_b29c4ac47a16row0_col0\" class=\"data row0 col0\" >1.000000</td>\n",
       "                        <td id=\"T_f471fe66_6695_11eb_9e24_b29c4ac47a16row0_col1\" class=\"data row0 col1\" >-0.016677</td>\n",
       "                        <td id=\"T_f471fe66_6695_11eb_9e24_b29c4ac47a16row0_col2\" class=\"data row0 col2\" >-0.038041</td>\n",
       "            </tr>\n",
       "            <tr>\n",
       "                        <th id=\"T_f471fe66_6695_11eb_9e24_b29c4ac47a16level0_row1\" class=\"row_heading level0 row1\" >Mean_nightlight</th>\n",
       "                        <td id=\"T_f471fe66_6695_11eb_9e24_b29c4ac47a16row1_col0\" class=\"data row1 col0\" >-0.016677</td>\n",
       "                        <td id=\"T_f471fe66_6695_11eb_9e24_b29c4ac47a16row1_col1\" class=\"data row1 col1\" >1.000000</td>\n",
       "                        <td id=\"T_f471fe66_6695_11eb_9e24_b29c4ac47a16row1_col2\" class=\"data row1 col2\" >0.860132</td>\n",
       "            </tr>\n",
       "            <tr>\n",
       "                        <th id=\"T_f471fe66_6695_11eb_9e24_b29c4ac47a16level0_row2\" class=\"row_heading level0 row2\" >Wealth Score</th>\n",
       "                        <td id=\"T_f471fe66_6695_11eb_9e24_b29c4ac47a16row2_col0\" class=\"data row2 col0\" >-0.038041</td>\n",
       "                        <td id=\"T_f471fe66_6695_11eb_9e24_b29c4ac47a16row2_col1\" class=\"data row2 col1\" >0.860132</td>\n",
       "                        <td id=\"T_f471fe66_6695_11eb_9e24_b29c4ac47a16row2_col2\" class=\"data row2 col2\" >1.000000</td>\n",
       "            </tr>\n",
       "    </tbody></table>"
      ],
      "text/plain": [
       "<pandas.io.formats.style.Styler at 0x1294939d0>"
      ]
     },
     "execution_count": 13,
     "metadata": {},
     "output_type": "execute_result"
    }
   ],
   "source": [
    "corr_df = dhs_nightlights_df.corr()\n",
    "styledcorr_df = corr_df.style.applymap(lambda x : 'color: blue' if 0 < x < 1 else 'color: grey')\n",
    "styledcorr_df"
   ]
  },
  {
   "cell_type": "code",
   "execution_count": 14,
   "metadata": {},
   "outputs": [
    {
     "name": "stdout",
     "output_type": "stream",
     "text": [
      "R-Squared =  0.7398266320074807\n"
     ]
    }
   ],
   "source": [
    "print('R-Squared = ', (corr_df['Mean_nightlight']['Wealth Score'])**2)"
   ]
  },
  {
   "cell_type": "markdown",
   "metadata": {},
   "source": [
    "This does prove that Mean nightlight intensity and wealth scores are correlated and about 73% of variance in wealth score is explained by the variance in mean nightlight intensity."
   ]
  },
  {
   "cell_type": "markdown",
   "metadata": {},
   "source": [
    "**But, let's use statsmodels to get a better idea of deterministic and inferential statistics.**"
   ]
  },
  {
   "cell_type": "code",
   "execution_count": 10,
   "metadata": {},
   "outputs": [],
   "source": [
    "X = dhs_nightlights_df['Mean_nightlight']\n",
    "X = sm.add_constant(X)\n",
    "y = dhs_nightlights_df['Wealth Score']"
   ]
  },
  {
   "cell_type": "markdown",
   "metadata": {},
   "source": [
    "\"An intercept is not included by default and should be added by the user. See statsmodels.tools.add_constant.\" - [Source](https://www.statsmodels.org/devel/generated/statsmodels.regression.linear_model.OLS.html)"
   ]
  },
  {
   "cell_type": "code",
   "execution_count": 11,
   "metadata": {},
   "outputs": [],
   "source": [
    "lin_model = sm.OLS(y, X).fit()"
   ]
  },
  {
   "cell_type": "code",
   "execution_count": 12,
   "metadata": {},
   "outputs": [
    {
     "data": {
      "text/html": [
       "<table class=\"simpletable\">\n",
       "<caption>OLS Regression Results</caption>\n",
       "<tr>\n",
       "  <th>Dep. Variable:</th>      <td>Wealth Score</td>   <th>  R-squared:         </th> <td>   0.740</td> \n",
       "</tr>\n",
       "<tr>\n",
       "  <th>Model:</th>                   <td>OLS</td>       <th>  Adj. R-squared:    </th> <td>   0.739</td> \n",
       "</tr>\n",
       "<tr>\n",
       "  <th>Method:</th>             <td>Least Squares</td>  <th>  F-statistic:       </th> <td>   1393.</td> \n",
       "</tr>\n",
       "<tr>\n",
       "  <th>Date:</th>             <td>Thu, 04 Feb 2021</td> <th>  Prob (F-statistic):</th> <td>2.30e-145</td>\n",
       "</tr>\n",
       "<tr>\n",
       "  <th>Time:</th>                 <td>12:06:01</td>     <th>  Log-Likelihood:    </th> <td> -278.05</td> \n",
       "</tr>\n",
       "<tr>\n",
       "  <th>No. Observations:</th>      <td>   492</td>      <th>  AIC:               </th> <td>   560.1</td> \n",
       "</tr>\n",
       "<tr>\n",
       "  <th>Df Residuals:</th>          <td>   490</td>      <th>  BIC:               </th> <td>   568.5</td> \n",
       "</tr>\n",
       "<tr>\n",
       "  <th>Df Model:</th>              <td>     1</td>      <th>                     </th>     <td> </td>    \n",
       "</tr>\n",
       "<tr>\n",
       "  <th>Covariance Type:</th>      <td>nonrobust</td>    <th>                     </th>     <td> </td>    \n",
       "</tr>\n",
       "</table>\n",
       "<table class=\"simpletable\">\n",
       "<tr>\n",
       "         <td></td>            <th>coef</th>     <th>std err</th>      <th>t</th>      <th>P>|t|</th>  <th>[0.025</th>    <th>0.975]</th>  \n",
       "</tr>\n",
       "<tr>\n",
       "  <th>const</th>           <td>   -0.2602</td> <td>    0.020</td> <td>  -12.699</td> <td> 0.000</td> <td>   -0.300</td> <td>   -0.220</td>\n",
       "</tr>\n",
       "<tr>\n",
       "  <th>Mean_nightlight</th> <td>    0.0709</td> <td>    0.002</td> <td>   37.328</td> <td> 0.000</td> <td>    0.067</td> <td>    0.075</td>\n",
       "</tr>\n",
       "</table>\n",
       "<table class=\"simpletable\">\n",
       "<tr>\n",
       "  <th>Omnibus:</th>       <td>245.303</td> <th>  Durbin-Watson:     </th> <td>   1.933</td>\n",
       "</tr>\n",
       "<tr>\n",
       "  <th>Prob(Omnibus):</th> <td> 0.000</td>  <th>  Jarque-Bera (JB):  </th> <td>2311.885</td>\n",
       "</tr>\n",
       "<tr>\n",
       "  <th>Skew:</th>          <td> 1.951</td>  <th>  Prob(JB):          </th> <td>    0.00</td>\n",
       "</tr>\n",
       "<tr>\n",
       "  <th>Kurtosis:</th>      <td>12.877</td>  <th>  Cond. No.          </th> <td>    11.5</td>\n",
       "</tr>\n",
       "</table><br/><br/>Notes:<br/>[1] Standard Errors assume that the covariance matrix of the errors is correctly specified."
      ],
      "text/plain": [
       "<class 'statsmodels.iolib.summary.Summary'>\n",
       "\"\"\"\n",
       "                            OLS Regression Results                            \n",
       "==============================================================================\n",
       "Dep. Variable:           Wealth Score   R-squared:                       0.740\n",
       "Model:                            OLS   Adj. R-squared:                  0.739\n",
       "Method:                 Least Squares   F-statistic:                     1393.\n",
       "Date:                Thu, 04 Feb 2021   Prob (F-statistic):          2.30e-145\n",
       "Time:                        12:06:01   Log-Likelihood:                -278.05\n",
       "No. Observations:                 492   AIC:                             560.1\n",
       "Df Residuals:                     490   BIC:                             568.5\n",
       "Df Model:                           1                                         \n",
       "Covariance Type:            nonrobust                                         \n",
       "===================================================================================\n",
       "                      coef    std err          t      P>|t|      [0.025      0.975]\n",
       "-----------------------------------------------------------------------------------\n",
       "const              -0.2602      0.020    -12.699      0.000      -0.300      -0.220\n",
       "Mean_nightlight     0.0709      0.002     37.328      0.000       0.067       0.075\n",
       "==============================================================================\n",
       "Omnibus:                      245.303   Durbin-Watson:                   1.933\n",
       "Prob(Omnibus):                  0.000   Jarque-Bera (JB):             2311.885\n",
       "Skew:                           1.951   Prob(JB):                         0.00\n",
       "Kurtosis:                      12.877   Cond. No.                         11.5\n",
       "==============================================================================\n",
       "\n",
       "Notes:\n",
       "[1] Standard Errors assume that the covariance matrix of the errors is correctly specified.\n",
       "\"\"\""
      ]
     },
     "execution_count": 12,
     "metadata": {},
     "output_type": "execute_result"
    }
   ],
   "source": [
    "lin_model.summary()"
   ]
  },
  {
   "cell_type": "markdown",
   "metadata": {},
   "source": [
    "<a id='generating_dataset'></a>"
   ]
  },
  {
   "cell_type": "markdown",
   "metadata": {},
   "source": [
    "## Generating DHS + Nightlights dataset"
   ]
  },
  {
   "cell_type": "markdown",
   "metadata": {},
   "source": [
    "Importing DHS Survey data and nightlights features"
   ]
  },
  {
   "cell_type": "code",
   "execution_count": null,
   "metadata": {},
   "outputs": [],
   "source": [
    "# Magic commands to enable autoreload of imported packages\n",
    "%load_ext autoreload\n",
    "%autoreload 2"
   ]
  },
  {
   "cell_type": "code",
   "execution_count": null,
   "metadata": {},
   "outputs": [],
   "source": [
    "from poverty_predictor.get_dhsdata import GetDHSData\n",
    "from poverty_predictor.merge_dataframes import merge_dhs, merge_night_dhs"
   ]
  },
  {
   "cell_type": "markdown",
   "metadata": {},
   "source": [
    "Fetching DHS data"
   ]
  },
  {
   "cell_type": "code",
   "execution_count": null,
   "metadata": {},
   "outputs": [],
   "source": [
    "data = GetDHSData('../data/GPS/RWGE61FL.shp', '../data/Survey/RWHR61FL.dta')\n",
    "gps_data = data.gps_df()\n",
    "survey_data = data.survey_df()"
   ]
  },
  {
   "cell_type": "code",
   "execution_count": null,
   "metadata": {},
   "outputs": [],
   "source": [
    "dhs_data = merge_dhs(gps_data, survey_data)"
   ]
  },
  {
   "cell_type": "markdown",
   "metadata": {},
   "source": [
    "Creating nightlight features and combining these features with DHS data"
   ]
  },
  {
   "cell_type": "code",
   "execution_count": null,
   "metadata": {},
   "outputs": [],
   "source": [
    "tiff_path = \"../data/Nightlights/F182010.v4d_web.stable_lights.avg_vis.tif\"\n",
    "nightlight_dhs_df = merge_night_dhs(dhs_data, tiff_path)"
   ]
  },
  {
   "cell_type": "markdown",
   "metadata": {},
   "source": [
    "Saving the combined dataframe in csv format."
   ]
  },
  {
   "cell_type": "code",
   "execution_count": null,
   "metadata": {},
   "outputs": [],
   "source": [
    "nightlight_dhs_df.to_csv(\"../data/DHS_Nightlights/DHS_Nightlights_data.csv\", index=False)"
   ]
  }
 ],
 "metadata": {
  "kernelspec": {
   "display_name": "Python 3",
   "language": "python",
   "name": "python3"
  },
  "language_info": {
   "codemirror_mode": {
    "name": "ipython",
    "version": 3
   },
   "file_extension": ".py",
   "mimetype": "text/x-python",
   "name": "python",
   "nbconvert_exporter": "python",
   "pygments_lexer": "ipython3",
   "version": "3.7.7"
  }
 },
 "nbformat": 4,
 "nbformat_minor": 4
}
