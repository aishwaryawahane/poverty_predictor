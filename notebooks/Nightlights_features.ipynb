{
 "cells": [
  {
   "cell_type": "markdown",
   "metadata": {},
   "source": [
    "## Creating Nightlights features"
   ]
  },
  {
   "cell_type": "markdown",
   "metadata": {},
   "source": [
    "Importing necessary libraries"
   ]
  },
  {
   "cell_type": "code",
   "execution_count": 1,
   "metadata": {},
   "outputs": [],
   "source": [
    "import rasterio\n",
    "import numpy as np\n",
    "import pandas as pd"
   ]
  },
  {
   "cell_type": "markdown",
   "metadata": {},
   "source": [
    "Generating nightlights features"
   ]
  },
  {
   "cell_type": "code",
   "execution_count": 8,
   "metadata": {},
   "outputs": [],
   "source": [
    "def read_raster(raster_file):\n",
    "    raster_data = rasterio.open(raster_file)\n",
    "    return raster_data\n",
    "    \n",
    "def get_nighttime_features(raster_data, dhs_sample):\n",
    "    clust_n, avg_wealth, asset_idx, x, y = dhs_sample\n",
    "    lon_idx, lat_idx = raster_data.index(x, y)\n",
    "\n",
    "    # Getting data for all the raster bands\n",
    "    bands_array = raster_data.read()\n",
    "    n_bands, rows, columns = bands_array.shape\n",
    "\n",
    "    # Generate 10*10 pixels\n",
    "    left_idx = lon_idx - 5\n",
    "    right_idx = lon_idx + 4\n",
    "    up_idx = lat_idx - 5\n",
    "    low_idx = lat_idx + 4\n",
    "\n",
    "    luminosity_100 = []\n",
    "    for i in range(left_idx, right_idx + 1):\n",
    "        for j in range(up_idx, low_idx + 1):\n",
    "            # Get the luminosity of this pixel\n",
    "            luminosity = bands_array.T[j, i, 0]\n",
    "            luminosity_100.append(luminosity)\n",
    "    luminosity_100 = np.asarray(luminosity_100)\n",
    "    max_ = np.max(luminosity_100)\n",
    "    min_ = np.min(luminosity_100)\n",
    "    mean_ = np.mean(luminosity_100)\n",
    "    median_ = np.median(luminosity_100)\n",
    "    std_ = np.std(luminosity_100)\n",
    "    return pd.Series({'Cluster Number': clust_n, 'Max': max_, 'Min': min_, 'Mean': mean_, 'Median': median_, 'Std': std_,  'Average Wealth': avg_wealth, 'Asset Index': asset_idx})"
   ]
  }
 ],
 "metadata": {
  "kernelspec": {
   "display_name": "Python 3",
   "language": "python",
   "name": "python3"
  },
  "language_info": {
   "codemirror_mode": {
    "name": "ipython",
    "version": 3
   },
   "file_extension": ".py",
   "mimetype": "text/x-python",
   "name": "python",
   "nbconvert_exporter": "python",
   "pygments_lexer": "ipython3",
   "version": "3.7.7"
  }
 },
 "nbformat": 4,
 "nbformat_minor": 4
}
