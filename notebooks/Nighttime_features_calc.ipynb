{
 "cells": [
  {
   "cell_type": "code",
   "execution_count": 1,
   "metadata": {},
   "outputs": [],
   "source": [
    "import math\n",
    "import geoio\n",
    "import numpy as np"
   ]
  },
  {
   "cell_type": "code",
   "execution_count": 2,
   "metadata": {},
   "outputs": [],
   "source": [
    "def create_square(lat, lon, s=10):\n",
    "    \"\"\"Creates a s km x s km square centered on (lat, lon)\"\"\"\n",
    "    v = (180/math.pi)*(500/6378137)*s # roughly 0.045 for s=10\n",
    "    return lat - v, lon - v, lat + v, lon + v"
   ]
  },
  {
   "cell_type": "code",
   "execution_count": 3,
   "metadata": {},
   "outputs": [],
   "source": [
    "def nightlight_feagtures_calc(tiif_path, lat, lon):\n",
    "    tiff = geoio.GeoImage(tiif_path)\n",
    "    tiff_array = np.squeeze(tiff.get_data())\n",
    "    min_lat, min_lon, max_lat, max_lon = create_square(lat, lon)\n",
    "    xminPixel, ymaxPixel = tiff.proj_to_raster(min_lon, min_lat)\n",
    "    xmaxPixel, yminPixel = tiff.proj_to_raster(max_lon, max_lat)\n",
    "    xminPixel, yminPixel, xmaxPixel, ymaxPixel = int(xminPixel), int(yminPixel), int(xmaxPixel), int(ymaxPixel)\n",
    "    return tiff_array[yminPixel:ymaxPixel,xminPixel:xmaxPixel].mean()"
   ]
  },
  {
   "cell_type": "code",
   "execution_count": 4,
   "metadata": {},
   "outputs": [
    {
     "name": "stdout",
     "output_type": "stream",
     "text": [
      "Rwanda row's nightlight intensity mean: 5.528925619834711\n"
     ]
    }
   ],
   "source": [
    "rd_tiif_path = \"../data/Rwanda_10/Nightlights/nightlights.tif\"\n",
    "rd_dhs_row = [6.0, -2.036917, 30.114591, -0.050272]\n",
    "rd_lat, rd_lon = rd_dhs_row[1], rd_dhs_row[2]\n",
    "print(\"Rwanda row's nightlight intensity mean:\", nightlight_feagtures_calc(rd_tiif_path, rd_lat, rd_lon))"
   ]
  }
 ],
 "metadata": {
  "kernelspec": {
   "display_name": "Python 3",
   "language": "python",
   "name": "python3"
  },
  "language_info": {
   "codemirror_mode": {
    "name": "ipython",
    "version": 3
   },
   "file_extension": ".py",
   "mimetype": "text/x-python",
   "name": "python",
   "nbconvert_exporter": "python",
   "pygments_lexer": "ipython3",
   "version": "3.7.7"
  }
 },
 "nbformat": 4,
 "nbformat_minor": 4
}
