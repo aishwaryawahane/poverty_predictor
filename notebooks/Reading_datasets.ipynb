{
 "cells": [
  {
   "cell_type": "markdown",
   "metadata": {},
   "source": [
    "## Reading the DHS survey and GPS datasets"
   ]
  },
  {
   "cell_type": "markdown",
   "metadata": {},
   "source": [
    "Importing necessary libraries"
   ]
  },
  {
   "cell_type": "code",
   "execution_count": 5,
   "metadata": {},
   "outputs": [],
   "source": [
    "from geopandas import read_file\n",
    "import pandas as pd"
   ]
  },
  {
   "cell_type": "code",
   "execution_count": 69,
   "metadata": {},
   "outputs": [],
   "source": [
    "class GetData():\n",
    "    def __init__(self, gps_path, survey_path):\n",
    "        self.gps_path = gps_path\n",
    "        self.survey_path = survey_path\n",
    "\n",
    "    # Creating a function to get GPS data\n",
    "    def gps_df(self):\n",
    "        shapefile_df = read_file(self.gps_path)\n",
    "        self.location_df = shapefile_df[['DHSCLUST', 'LATNUM', 'LONGNUM']]\n",
    "        return self.location_df\n",
    "\n",
    "    # Reading the survey (.dta/stata) file to get the wealth asset data\n",
    "    def survey_df(self):\n",
    "        dta_file = pd.read_stata(self.survey_path)\n",
    "        survey_df = dta_file[['hv001', 'hv270']].rename(columns={'hv001': 'DHSCLUST', 'hv270':'wealth_asset_index'})\n",
    "        survey_df['wealth_asset_index'] = survey_df['wealth_asset_index'].map({'poorest':1, 'poorer':2, 'middle':3, 'richer':4, 'richest':5})\n",
    "        survey_df['wealth_asset_index'] = survey_df['wealth_asset_index'].astype('int16')\n",
    "        self.survey_df = survey_df.groupby('DHSCLUST')[['wealth_asset_index']].median().reset_index()\n",
    "        return self.survey_df\n",
    "\n",
    "    # Merging location_df and survey_df to get wealth_df\n",
    "    def merged_wealth(self):\n",
    "        wealth_df = pd.merge(self.location_df, self.survey_df, on = 'DHSCLUST')\n",
    "        wealth_df = wealth_df.rename(columns={'DHSCLUST':'Cluster Number', 'LATNUM':'Latitude', 'LONGNUM':'Longitude','wealth_asset_index':'Asset Index'})\n",
    "        return wealth_df"
   ]
  },
  {
   "cell_type": "code",
   "execution_count": 70,
   "metadata": {},
   "outputs": [],
   "source": [
    "data = GetData('../poverty_predictor/data/GPS/RWGE61FL.shp', '../poverty_predictor/data/Survey/RWHR61FL.dta')"
   ]
  },
  {
   "cell_type": "code",
   "execution_count": 71,
   "metadata": {},
   "outputs": [],
   "source": [
    "gps_data = data.gps_df()"
   ]
  },
  {
   "cell_type": "code",
   "execution_count": 72,
   "metadata": {},
   "outputs": [],
   "source": [
    "survey_data = data.survey_df()"
   ]
  },
  {
   "cell_type": "code",
   "execution_count": 73,
   "metadata": {},
   "outputs": [],
   "source": [
    "wealthgps_df = data.merged_wealth()"
   ]
  },
  {
   "cell_type": "code",
   "execution_count": 75,
   "metadata": {},
   "outputs": [
    {
     "data": {
      "text/html": [
       "<div>\n",
       "<style scoped>\n",
       "    .dataframe tbody tr th:only-of-type {\n",
       "        vertical-align: middle;\n",
       "    }\n",
       "\n",
       "    .dataframe tbody tr th {\n",
       "        vertical-align: top;\n",
       "    }\n",
       "\n",
       "    .dataframe thead th {\n",
       "        text-align: right;\n",
       "    }\n",
       "</style>\n",
       "<table border=\"1\" class=\"dataframe\">\n",
       "  <thead>\n",
       "    <tr style=\"text-align: right;\">\n",
       "      <th></th>\n",
       "      <th>Cluster Number</th>\n",
       "      <th>Latitude</th>\n",
       "      <th>Longitude</th>\n",
       "      <th>Asset Index</th>\n",
       "    </tr>\n",
       "  </thead>\n",
       "  <tbody>\n",
       "    <tr>\n",
       "      <th>0</th>\n",
       "      <td>1.0</td>\n",
       "      <td>-2.532818</td>\n",
       "      <td>29.684726</td>\n",
       "      <td>2.0</td>\n",
       "    </tr>\n",
       "    <tr>\n",
       "      <th>1</th>\n",
       "      <td>2.0</td>\n",
       "      <td>-1.833858</td>\n",
       "      <td>30.310689</td>\n",
       "      <td>2.5</td>\n",
       "    </tr>\n",
       "    <tr>\n",
       "      <th>2</th>\n",
       "      <td>3.0</td>\n",
       "      <td>-1.888155</td>\n",
       "      <td>29.478298</td>\n",
       "      <td>2.0</td>\n",
       "    </tr>\n",
       "    <tr>\n",
       "      <th>3</th>\n",
       "      <td>4.0</td>\n",
       "      <td>-2.366763</td>\n",
       "      <td>30.521692</td>\n",
       "      <td>2.0</td>\n",
       "    </tr>\n",
       "    <tr>\n",
       "      <th>4</th>\n",
       "      <td>5.0</td>\n",
       "      <td>-2.171266</td>\n",
       "      <td>30.018541</td>\n",
       "      <td>2.0</td>\n",
       "    </tr>\n",
       "  </tbody>\n",
       "</table>\n",
       "</div>"
      ],
      "text/plain": [
       "   Cluster Number  Latitude  Longitude  Asset Index\n",
       "0             1.0 -2.532818  29.684726          2.0\n",
       "1             2.0 -1.833858  30.310689          2.5\n",
       "2             3.0 -1.888155  29.478298          2.0\n",
       "3             4.0 -2.366763  30.521692          2.0\n",
       "4             5.0 -2.171266  30.018541          2.0"
      ]
     },
     "execution_count": 75,
     "metadata": {},
     "output_type": "execute_result"
    }
   ],
   "source": [
    "wealthgps_df.head()"
   ]
  }
 ],
 "metadata": {
  "kernelspec": {
   "display_name": "Python 3",
   "language": "python",
   "name": "python3"
  },
  "language_info": {
   "codemirror_mode": {
    "name": "ipython",
    "version": 3
   },
   "file_extension": ".py",
   "mimetype": "text/x-python",
   "name": "python",
   "nbconvert_exporter": "python",
   "pygments_lexer": "ipython3",
   "version": "3.7.7"
  }
 },
 "nbformat": 4,
 "nbformat_minor": 4
}
