{
 "cells": [
  {
   "cell_type": "markdown",
   "metadata": {},
   "source": [
    "## Creating Nighttime dataset"
   ]
  },
  {
   "cell_type": "markdown",
   "metadata": {},
   "source": [
    "Importing necessary libraries"
   ]
  },
  {
   "cell_type": "code",
   "execution_count": 1,
   "metadata": {},
   "outputs": [],
   "source": [
    "import rasterio\n",
    "import numpy as np\n",
    "import pandas as pd"
   ]
  },
  {
   "cell_type": "code",
   "execution_count": 2,
   "metadata": {},
   "outputs": [],
   "source": [
    "nighttime_file = \"../poverty_predictor/data/Nightlights/F182010.v4d_web.stable_lights.avg_vis.tif\"\n",
    "raster_data = rasterio.open(nighttime_file)"
   ]
  },
  {
   "cell_type": "code",
   "execution_count": 3,
   "metadata": {},
   "outputs": [],
   "source": [
    "def get_nighttime_features(raster_data, dhs_sample = [60.0, 5.0, 29.265095, -1.680382]):\n",
    "    clust_n, asset_idx, x, y = dhs_sample\n",
    "    lon_idx, lat_idx = raster_data.index(x, y)\n",
    "    \n",
    "    # Getting data for all the raster bands\n",
    "    bands_array = raster_data.read()\n",
    "    n_bands, rows, columns = bands_array.shape\n",
    "    \n",
    "    # Generate 10*10 pixels\n",
    "    left_idx = lon_idx - 5\n",
    "    right_idx = lon_idx + 4\n",
    "    up_idx = lat_idx - 5\n",
    "    low_idx = lat_idx + 4\n",
    "    \n",
    "    luminosity_100 = []\n",
    "    for i in range(left_idx, right_idx + 1):\n",
    "        for j in range(up_idx, low_idx + 1):\n",
    "            # Get the luminosity of this pixel\n",
    "            luminosity = bands_array.T[j, i, 0]\n",
    "            luminosity_100.append(luminosity)\n",
    "    luminosity_100 = np.asarray(luminosity_100)\n",
    "    max_ = np.max(luminosity_100)\n",
    "    min_ = np.min(luminosity_100)\n",
    "    mean_ = np.mean(luminosity_100)\n",
    "    median_ = np.median(luminosity_100)\n",
    "    std_ = np.std(luminosity_100)\n",
    "    return pd.Series({'id': clust_n, 'max_': max_, 'min_': min_, 'mean_': mean_, 'median_': median_, 'std_': std_, 'wealth': asset_idx})"
   ]
  },
  {
   "cell_type": "code",
   "execution_count": 4,
   "metadata": {},
   "outputs": [
    {
     "data": {
      "text/plain": [
       "id         60.000000\n",
       "max_       48.000000\n",
       "min_        0.000000\n",
       "mean_      14.160000\n",
       "median_    10.000000\n",
       "std_       12.445658\n",
       "wealth      5.000000\n",
       "dtype: float64"
      ]
     },
     "execution_count": 4,
     "metadata": {},
     "output_type": "execute_result"
    }
   ],
   "source": [
    "get_nighttime_features(raster_data)"
   ]
  },
  {
   "cell_type": "code",
   "execution_count": null,
   "metadata": {},
   "outputs": [],
   "source": [
    "# def get_raster_data(raster_data):\n",
    "#     # Getting metadata from the raster file\n",
    "#     r_transform = raster_data.transform\n",
    "#     x_size, x_rotation, upper_left_x, y_rotation, y_size, upper_left_y, g, h, i = r_transform\n",
    "    \n",
    "#     # Getting data for all the raster bands\n",
    "#     bands_array = raster_data.read()\n",
    "#     n_bands, rows, columns = bands_array.shape\n",
    "    \n",
    "#     # Calculating the longitude of top-left point in each pixel\n",
    "#     x_array = np.arange(0, columns+1)\n",
    "#     y_array = np.arange(0, rows+1)\n",
    "#     top_left_x = []\n",
    "#     top_left_y = []\n",
    "#     for y in y_array:\n",
    "#         top_left_x = (raster_data.transform * (x_array,y))[0]\n",
    "#     for x in x_array:\n",
    "#         top_left_y = (raster_data.transform * (x,y_array))[1]\n",
    "# #     return (top_left_x, top_left_y, bands_array)\n",
    "#     return (bands_array)"
   ]
  }
 ],
 "metadata": {
  "kernelspec": {
   "display_name": "Python 3",
   "language": "python",
   "name": "python3"
  },
  "language_info": {
   "codemirror_mode": {
    "name": "ipython",
    "version": 3
   },
   "file_extension": ".py",
   "mimetype": "text/x-python",
   "name": "python",
   "nbconvert_exporter": "python",
   "pygments_lexer": "ipython3",
   "version": "3.7.7"
  }
 },
 "nbformat": 4,
 "nbformat_minor": 4
}
