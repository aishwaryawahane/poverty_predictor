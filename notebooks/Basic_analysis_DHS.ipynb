{
 "cells": [
  {
   "cell_type": "markdown",
   "metadata": {},
   "source": [
    "# Reading DHS Survey and GPS datasets"
   ]
  },
  {
   "cell_type": "code",
   "execution_count": 1,
   "metadata": {},
   "outputs": [],
   "source": [
    "# Magic commands to enable autoreload of imported packages\n",
    "%load_ext autoreload\n",
    "%autoreload 2"
   ]
  },
  {
   "cell_type": "markdown",
   "metadata": {},
   "source": [
    "Importing the packages we created for getting DHS datasets"
   ]
  },
  {
   "cell_type": "code",
   "execution_count": 2,
   "metadata": {},
   "outputs": [],
   "source": [
    "from poverty_predictor.get_dhsdata import GetDHSData\n",
    "from poverty_predictor.merge_dataframes import merge_dhs"
   ]
  },
  {
   "cell_type": "markdown",
   "metadata": {},
   "source": [
    "Fetching raw DHS - GPS and Survey datasets"
   ]
  },
  {
   "cell_type": "code",
   "execution_count": 3,
   "metadata": {},
   "outputs": [],
   "source": [
    "data = GetDHSData()\n",
    "gps_df = data.gps_df()\n",
    "survey_df = data.survey_df()"
   ]
  },
  {
   "cell_type": "code",
   "execution_count": 4,
   "metadata": {},
   "outputs": [
    {
     "data": {
      "text/html": [
       "<div>\n",
       "<style scoped>\n",
       "    .dataframe tbody tr th:only-of-type {\n",
       "        vertical-align: middle;\n",
       "    }\n",
       "\n",
       "    .dataframe tbody tr th {\n",
       "        vertical-align: top;\n",
       "    }\n",
       "\n",
       "    .dataframe thead th {\n",
       "        text-align: right;\n",
       "    }\n",
       "</style>\n",
       "<table border=\"1\" class=\"dataframe\">\n",
       "  <thead>\n",
       "    <tr style=\"text-align: right;\">\n",
       "      <th></th>\n",
       "      <th>DHSID</th>\n",
       "      <th>DHSCC</th>\n",
       "      <th>DHSYEAR</th>\n",
       "      <th>DHSCLUST</th>\n",
       "      <th>CCFIPS</th>\n",
       "      <th>ADM1FIPS</th>\n",
       "      <th>ADM1FIPSNA</th>\n",
       "      <th>ADM1SALBNA</th>\n",
       "      <th>ADM1SALBCO</th>\n",
       "      <th>ADM1DHS</th>\n",
       "      <th>...</th>\n",
       "      <th>DHSREGCO</th>\n",
       "      <th>DHSREGNA</th>\n",
       "      <th>SOURCE</th>\n",
       "      <th>URBAN_RURA</th>\n",
       "      <th>LATNUM</th>\n",
       "      <th>LONGNUM</th>\n",
       "      <th>ALT_GPS</th>\n",
       "      <th>ALT_DEM</th>\n",
       "      <th>DATUM</th>\n",
       "      <th>geometry</th>\n",
       "    </tr>\n",
       "  </thead>\n",
       "  <tbody>\n",
       "    <tr>\n",
       "      <th>0</th>\n",
       "      <td>MW201500000001</td>\n",
       "      <td>MW</td>\n",
       "      <td>2015.0</td>\n",
       "      <td>1.0</td>\n",
       "      <td>MI</td>\n",
       "      <td>NULL</td>\n",
       "      <td>NULL</td>\n",
       "      <td>Central Region</td>\n",
       "      <td>MWI001</td>\n",
       "      <td>2.0</td>\n",
       "      <td>...</td>\n",
       "      <td>2.0</td>\n",
       "      <td>Central region</td>\n",
       "      <td>GPS</td>\n",
       "      <td>U</td>\n",
       "      <td>-13.360652</td>\n",
       "      <td>33.923942</td>\n",
       "      <td>482.0</td>\n",
       "      <td>1379.0</td>\n",
       "      <td>WGS84</td>\n",
       "      <td>POINT (33.92394 -13.36065)</td>\n",
       "    </tr>\n",
       "    <tr>\n",
       "      <th>1</th>\n",
       "      <td>MW201500000002</td>\n",
       "      <td>MW</td>\n",
       "      <td>2015.0</td>\n",
       "      <td>2.0</td>\n",
       "      <td>MI</td>\n",
       "      <td>NULL</td>\n",
       "      <td>NULL</td>\n",
       "      <td>Central Region</td>\n",
       "      <td>MWI001</td>\n",
       "      <td>2.0</td>\n",
       "      <td>...</td>\n",
       "      <td>2.0</td>\n",
       "      <td>Central region</td>\n",
       "      <td>GPS</td>\n",
       "      <td>R</td>\n",
       "      <td>-12.855043</td>\n",
       "      <td>33.336077</td>\n",
       "      <td>1069.0</td>\n",
       "      <td>1044.0</td>\n",
       "      <td>WGS84</td>\n",
       "      <td>POINT (33.33608 -12.85504)</td>\n",
       "    </tr>\n",
       "    <tr>\n",
       "      <th>2</th>\n",
       "      <td>MW201500000003</td>\n",
       "      <td>MW</td>\n",
       "      <td>2015.0</td>\n",
       "      <td>3.0</td>\n",
       "      <td>MI</td>\n",
       "      <td>NULL</td>\n",
       "      <td>NULL</td>\n",
       "      <td>Southern Region</td>\n",
       "      <td>MWI003</td>\n",
       "      <td>3.0</td>\n",
       "      <td>...</td>\n",
       "      <td>3.0</td>\n",
       "      <td>Southern region</td>\n",
       "      <td>GPS</td>\n",
       "      <td>R</td>\n",
       "      <td>-15.100664</td>\n",
       "      <td>35.534903</td>\n",
       "      <td>647.0</td>\n",
       "      <td>640.0</td>\n",
       "      <td>WGS84</td>\n",
       "      <td>POINT (35.53490 -15.10066)</td>\n",
       "    </tr>\n",
       "    <tr>\n",
       "      <th>3</th>\n",
       "      <td>MW201500000004</td>\n",
       "      <td>MW</td>\n",
       "      <td>2015.0</td>\n",
       "      <td>4.0</td>\n",
       "      <td>MI</td>\n",
       "      <td>NULL</td>\n",
       "      <td>NULL</td>\n",
       "      <td>Northern Region</td>\n",
       "      <td>MWI002</td>\n",
       "      <td>1.0</td>\n",
       "      <td>...</td>\n",
       "      <td>1.0</td>\n",
       "      <td>Northern region</td>\n",
       "      <td>GPS</td>\n",
       "      <td>R</td>\n",
       "      <td>-12.015707</td>\n",
       "      <td>34.627514</td>\n",
       "      <td>522.0</td>\n",
       "      <td>476.0</td>\n",
       "      <td>WGS84</td>\n",
       "      <td>POINT (34.62751 -12.01571)</td>\n",
       "    </tr>\n",
       "    <tr>\n",
       "      <th>4</th>\n",
       "      <td>MW201500000005</td>\n",
       "      <td>MW</td>\n",
       "      <td>2015.0</td>\n",
       "      <td>5.0</td>\n",
       "      <td>MI</td>\n",
       "      <td>NULL</td>\n",
       "      <td>NULL</td>\n",
       "      <td>Central Region</td>\n",
       "      <td>MWI001</td>\n",
       "      <td>2.0</td>\n",
       "      <td>...</td>\n",
       "      <td>2.0</td>\n",
       "      <td>Central region</td>\n",
       "      <td>GPS</td>\n",
       "      <td>R</td>\n",
       "      <td>-13.891912</td>\n",
       "      <td>33.000702</td>\n",
       "      <td>1153.0</td>\n",
       "      <td>1133.0</td>\n",
       "      <td>WGS84</td>\n",
       "      <td>POINT (33.00070 -13.89191)</td>\n",
       "    </tr>\n",
       "  </tbody>\n",
       "</table>\n",
       "<p>5 rows × 21 columns</p>\n",
       "</div>"
      ],
      "text/plain": [
       "            DHSID DHSCC  DHSYEAR  DHSCLUST CCFIPS ADM1FIPS ADM1FIPSNA  \\\n",
       "0  MW201500000001    MW   2015.0       1.0     MI     NULL       NULL   \n",
       "1  MW201500000002    MW   2015.0       2.0     MI     NULL       NULL   \n",
       "2  MW201500000003    MW   2015.0       3.0     MI     NULL       NULL   \n",
       "3  MW201500000004    MW   2015.0       4.0     MI     NULL       NULL   \n",
       "4  MW201500000005    MW   2015.0       5.0     MI     NULL       NULL   \n",
       "\n",
       "        ADM1SALBNA ADM1SALBCO  ADM1DHS  ... DHSREGCO         DHSREGNA SOURCE  \\\n",
       "0   Central Region     MWI001      2.0  ...      2.0   Central region    GPS   \n",
       "1   Central Region     MWI001      2.0  ...      2.0   Central region    GPS   \n",
       "2  Southern Region     MWI003      3.0  ...      3.0  Southern region    GPS   \n",
       "3  Northern Region     MWI002      1.0  ...      1.0  Northern region    GPS   \n",
       "4   Central Region     MWI001      2.0  ...      2.0   Central region    GPS   \n",
       "\n",
       "  URBAN_RURA     LATNUM    LONGNUM  ALT_GPS  ALT_DEM  DATUM  \\\n",
       "0          U -13.360652  33.923942    482.0   1379.0  WGS84   \n",
       "1          R -12.855043  33.336077   1069.0   1044.0  WGS84   \n",
       "2          R -15.100664  35.534903    647.0    640.0  WGS84   \n",
       "3          R -12.015707  34.627514    522.0    476.0  WGS84   \n",
       "4          R -13.891912  33.000702   1153.0   1133.0  WGS84   \n",
       "\n",
       "                     geometry  \n",
       "0  POINT (33.92394 -13.36065)  \n",
       "1  POINT (33.33608 -12.85504)  \n",
       "2  POINT (35.53490 -15.10066)  \n",
       "3  POINT (34.62751 -12.01571)  \n",
       "4  POINT (33.00070 -13.89191)  \n",
       "\n",
       "[5 rows x 21 columns]"
      ]
     },
     "execution_count": 4,
     "metadata": {},
     "output_type": "execute_result"
    }
   ],
   "source": [
    "gps_df.head()"
   ]
  },
  {
   "cell_type": "code",
   "execution_count": 5,
   "metadata": {},
   "outputs": [
    {
     "data": {
      "text/html": [
       "<div>\n",
       "<style scoped>\n",
       "    .dataframe tbody tr th:only-of-type {\n",
       "        vertical-align: middle;\n",
       "    }\n",
       "\n",
       "    .dataframe tbody tr th {\n",
       "        vertical-align: top;\n",
       "    }\n",
       "\n",
       "    .dataframe thead th {\n",
       "        text-align: right;\n",
       "    }\n",
       "</style>\n",
       "<table border=\"1\" class=\"dataframe\">\n",
       "  <thead>\n",
       "    <tr style=\"text-align: right;\">\n",
       "      <th></th>\n",
       "      <th>hhid</th>\n",
       "      <th>hv000</th>\n",
       "      <th>hv001</th>\n",
       "      <th>hv002</th>\n",
       "      <th>hv003</th>\n",
       "      <th>hv004</th>\n",
       "      <th>hv005</th>\n",
       "      <th>hv006</th>\n",
       "      <th>hv007</th>\n",
       "      <th>hv008</th>\n",
       "      <th>...</th>\n",
       "      <th>hml35_11</th>\n",
       "      <th>hml35_12</th>\n",
       "      <th>hml35_13</th>\n",
       "      <th>hml35_14</th>\n",
       "      <th>hml35_15</th>\n",
       "      <th>hml35_16</th>\n",
       "      <th>hml35_17</th>\n",
       "      <th>hml35_18</th>\n",
       "      <th>hml35_19</th>\n",
       "      <th>hml35_20</th>\n",
       "    </tr>\n",
       "  </thead>\n",
       "  <tbody>\n",
       "    <tr>\n",
       "      <th>0</th>\n",
       "      <td>1  12</td>\n",
       "      <td>MW7</td>\n",
       "      <td>1</td>\n",
       "      <td>12</td>\n",
       "      <td>2</td>\n",
       "      <td>1</td>\n",
       "      <td>118371</td>\n",
       "      <td>1</td>\n",
       "      <td>2016</td>\n",
       "      <td>1393</td>\n",
       "      <td>...</td>\n",
       "      <td>NaN</td>\n",
       "      <td>NaN</td>\n",
       "      <td>NaN</td>\n",
       "      <td>NaN</td>\n",
       "      <td>NaN</td>\n",
       "      <td>NaN</td>\n",
       "      <td>NaN</td>\n",
       "      <td>NaN</td>\n",
       "      <td>NaN</td>\n",
       "      <td>NaN</td>\n",
       "    </tr>\n",
       "    <tr>\n",
       "      <th>1</th>\n",
       "      <td>1  17</td>\n",
       "      <td>MW7</td>\n",
       "      <td>1</td>\n",
       "      <td>17</td>\n",
       "      <td>2</td>\n",
       "      <td>1</td>\n",
       "      <td>118371</td>\n",
       "      <td>1</td>\n",
       "      <td>2016</td>\n",
       "      <td>1393</td>\n",
       "      <td>...</td>\n",
       "      <td>NaN</td>\n",
       "      <td>NaN</td>\n",
       "      <td>NaN</td>\n",
       "      <td>NaN</td>\n",
       "      <td>NaN</td>\n",
       "      <td>NaN</td>\n",
       "      <td>NaN</td>\n",
       "      <td>NaN</td>\n",
       "      <td>NaN</td>\n",
       "      <td>NaN</td>\n",
       "    </tr>\n",
       "    <tr>\n",
       "      <th>2</th>\n",
       "      <td>1  39</td>\n",
       "      <td>MW7</td>\n",
       "      <td>1</td>\n",
       "      <td>39</td>\n",
       "      <td>2</td>\n",
       "      <td>1</td>\n",
       "      <td>118371</td>\n",
       "      <td>1</td>\n",
       "      <td>2016</td>\n",
       "      <td>1393</td>\n",
       "      <td>...</td>\n",
       "      <td>NaN</td>\n",
       "      <td>NaN</td>\n",
       "      <td>NaN</td>\n",
       "      <td>NaN</td>\n",
       "      <td>NaN</td>\n",
       "      <td>NaN</td>\n",
       "      <td>NaN</td>\n",
       "      <td>NaN</td>\n",
       "      <td>NaN</td>\n",
       "      <td>NaN</td>\n",
       "    </tr>\n",
       "    <tr>\n",
       "      <th>3</th>\n",
       "      <td>1  59</td>\n",
       "      <td>MW7</td>\n",
       "      <td>1</td>\n",
       "      <td>59</td>\n",
       "      <td>1</td>\n",
       "      <td>1</td>\n",
       "      <td>118371</td>\n",
       "      <td>1</td>\n",
       "      <td>2016</td>\n",
       "      <td>1393</td>\n",
       "      <td>...</td>\n",
       "      <td>NaN</td>\n",
       "      <td>NaN</td>\n",
       "      <td>NaN</td>\n",
       "      <td>NaN</td>\n",
       "      <td>NaN</td>\n",
       "      <td>NaN</td>\n",
       "      <td>NaN</td>\n",
       "      <td>NaN</td>\n",
       "      <td>NaN</td>\n",
       "      <td>NaN</td>\n",
       "    </tr>\n",
       "    <tr>\n",
       "      <th>4</th>\n",
       "      <td>1  60</td>\n",
       "      <td>MW7</td>\n",
       "      <td>1</td>\n",
       "      <td>60</td>\n",
       "      <td>2</td>\n",
       "      <td>1</td>\n",
       "      <td>118371</td>\n",
       "      <td>1</td>\n",
       "      <td>2016</td>\n",
       "      <td>1393</td>\n",
       "      <td>...</td>\n",
       "      <td>NaN</td>\n",
       "      <td>NaN</td>\n",
       "      <td>NaN</td>\n",
       "      <td>NaN</td>\n",
       "      <td>NaN</td>\n",
       "      <td>NaN</td>\n",
       "      <td>NaN</td>\n",
       "      <td>NaN</td>\n",
       "      <td>NaN</td>\n",
       "      <td>NaN</td>\n",
       "    </tr>\n",
       "  </tbody>\n",
       "</table>\n",
       "<p>5 rows × 4515 columns</p>\n",
       "</div>"
      ],
      "text/plain": [
       "           hhid hv000  hv001  hv002 hv003  hv004   hv005  hv006  hv007  hv008  \\\n",
       "0         1  12   MW7      1     12     2      1  118371      1   2016   1393   \n",
       "1         1  17   MW7      1     17     2      1  118371      1   2016   1393   \n",
       "2         1  39   MW7      1     39     2      1  118371      1   2016   1393   \n",
       "3         1  59   MW7      1     59     1      1  118371      1   2016   1393   \n",
       "4         1  60   MW7      1     60     2      1  118371      1   2016   1393   \n",
       "\n",
       "   ...  hml35_11  hml35_12  hml35_13  hml35_14  hml35_15  hml35_16  hml35_17  \\\n",
       "0  ...       NaN       NaN       NaN       NaN       NaN       NaN       NaN   \n",
       "1  ...       NaN       NaN       NaN       NaN       NaN       NaN       NaN   \n",
       "2  ...       NaN       NaN       NaN       NaN       NaN       NaN       NaN   \n",
       "3  ...       NaN       NaN       NaN       NaN       NaN       NaN       NaN   \n",
       "4  ...       NaN       NaN       NaN       NaN       NaN       NaN       NaN   \n",
       "\n",
       "  hml35_18  hml35_19  hml35_20  \n",
       "0      NaN       NaN       NaN  \n",
       "1      NaN       NaN       NaN  \n",
       "2      NaN       NaN       NaN  \n",
       "3      NaN       NaN       NaN  \n",
       "4      NaN       NaN       NaN  \n",
       "\n",
       "[5 rows x 4515 columns]"
      ]
     },
     "execution_count": 5,
     "metadata": {},
     "output_type": "execute_result"
    }
   ],
   "source": [
    "survey_df.head()"
   ]
  },
  {
   "cell_type": "markdown",
   "metadata": {},
   "source": [
    "Next, we will merge the two dataframes to get the cluster number, location co-ordinates and wealth scores for each region."
   ]
  },
  {
   "cell_type": "code",
   "execution_count": 6,
   "metadata": {
    "scrolled": true
   },
   "outputs": [
    {
     "data": {
      "text/html": [
       "<div>\n",
       "<style scoped>\n",
       "    .dataframe tbody tr th:only-of-type {\n",
       "        vertical-align: middle;\n",
       "    }\n",
       "\n",
       "    .dataframe tbody tr th {\n",
       "        vertical-align: top;\n",
       "    }\n",
       "\n",
       "    .dataframe thead th {\n",
       "        text-align: right;\n",
       "    }\n",
       "</style>\n",
       "<table border=\"1\" class=\"dataframe\">\n",
       "  <thead>\n",
       "    <tr style=\"text-align: right;\">\n",
       "      <th></th>\n",
       "      <th>Cluster Number</th>\n",
       "      <th>Latitude</th>\n",
       "      <th>Longitude</th>\n",
       "      <th>Wealth Score</th>\n",
       "    </tr>\n",
       "  </thead>\n",
       "  <tbody>\n",
       "    <tr>\n",
       "      <th>0</th>\n",
       "      <td>1.0</td>\n",
       "      <td>-13.360652</td>\n",
       "      <td>33.923942</td>\n",
       "      <td>1.167215</td>\n",
       "    </tr>\n",
       "    <tr>\n",
       "      <th>1</th>\n",
       "      <td>2.0</td>\n",
       "      <td>-12.855043</td>\n",
       "      <td>33.336077</td>\n",
       "      <td>-0.422531</td>\n",
       "    </tr>\n",
       "    <tr>\n",
       "      <th>2</th>\n",
       "      <td>3.0</td>\n",
       "      <td>-15.100664</td>\n",
       "      <td>35.534903</td>\n",
       "      <td>-0.483771</td>\n",
       "    </tr>\n",
       "    <tr>\n",
       "      <th>3</th>\n",
       "      <td>4.0</td>\n",
       "      <td>-12.015707</td>\n",
       "      <td>34.627514</td>\n",
       "      <td>-0.033378</td>\n",
       "    </tr>\n",
       "    <tr>\n",
       "      <th>4</th>\n",
       "      <td>5.0</td>\n",
       "      <td>-13.891912</td>\n",
       "      <td>33.000702</td>\n",
       "      <td>-0.688653</td>\n",
       "    </tr>\n",
       "  </tbody>\n",
       "</table>\n",
       "</div>"
      ],
      "text/plain": [
       "   Cluster Number   Latitude  Longitude  Wealth Score\n",
       "0             1.0 -13.360652  33.923942      1.167215\n",
       "1             2.0 -12.855043  33.336077     -0.422531\n",
       "2             3.0 -15.100664  35.534903     -0.483771\n",
       "3             4.0 -12.015707  34.627514     -0.033378\n",
       "4             5.0 -13.891912  33.000702     -0.688653"
      ]
     },
     "execution_count": 6,
     "metadata": {},
     "output_type": "execute_result"
    }
   ],
   "source": [
    "dhs_data = merge_dhs(gps_df, survey_df)\n",
    "dhs_data.head()"
   ]
  },
  {
   "cell_type": "markdown",
   "metadata": {},
   "source": [
    "## Glancing through the merged DHS dataset"
   ]
  },
  {
   "cell_type": "code",
   "execution_count": 7,
   "metadata": {},
   "outputs": [
    {
     "data": {
      "text/plain": [
       "(850, 4)"
      ]
     },
     "execution_count": 7,
     "metadata": {},
     "output_type": "execute_result"
    }
   ],
   "source": [
    "dhs_data.shape"
   ]
  },
  {
   "cell_type": "code",
   "execution_count": 8,
   "metadata": {},
   "outputs": [
    {
     "data": {
      "text/plain": [
       "Index(['Cluster Number', 'Latitude', 'Longitude', 'Wealth Score'], dtype='object')"
      ]
     },
     "execution_count": 8,
     "metadata": {},
     "output_type": "execute_result"
    }
   ],
   "source": [
    "dhs_data.columns"
   ]
  },
  {
   "cell_type": "code",
   "execution_count": 9,
   "metadata": {},
   "outputs": [
    {
     "data": {
      "text/plain": [
       "Cluster Number    float64\n",
       "Latitude          float64\n",
       "Longitude         float64\n",
       "Wealth Score      float64\n",
       "dtype: object"
      ]
     },
     "execution_count": 9,
     "metadata": {},
     "output_type": "execute_result"
    }
   ],
   "source": [
    "dhs_data.dtypes"
   ]
  },
  {
   "cell_type": "code",
   "execution_count": 10,
   "metadata": {},
   "outputs": [
    {
     "name": "stdout",
     "output_type": "stream",
     "text": [
      "<class 'pandas.core.frame.DataFrame'>\n",
      "Int64Index: 850 entries, 0 to 849\n",
      "Data columns (total 4 columns):\n",
      " #   Column          Non-Null Count  Dtype  \n",
      "---  ------          --------------  -----  \n",
      " 0   Cluster Number  850 non-null    float64\n",
      " 1   Latitude        850 non-null    float64\n",
      " 2   Longitude       850 non-null    float64\n",
      " 3   Wealth Score    850 non-null    float64\n",
      "dtypes: float64(4)\n",
      "memory usage: 33.2 KB\n"
     ]
    }
   ],
   "source": [
    "dhs_data.info()"
   ]
  },
  {
   "cell_type": "markdown",
   "metadata": {},
   "source": [
    "dhs_data.describe() doesn't give any relevant information"
   ]
  },
  {
   "cell_type": "code",
   "execution_count": 11,
   "metadata": {},
   "outputs": [
    {
     "data": {
      "text/plain": [
       "Cluster Number    850\n",
       "Latitude          850\n",
       "Longitude         850\n",
       "Wealth Score      850\n",
       "dtype: int64"
      ]
     },
     "execution_count": 11,
     "metadata": {},
     "output_type": "execute_result"
    }
   ],
   "source": [
    "dhs_data.nunique()"
   ]
  }
 ],
 "metadata": {
  "kernelspec": {
   "display_name": "Python 3",
   "language": "python",
   "name": "python3"
  },
  "language_info": {
   "codemirror_mode": {
    "name": "ipython",
    "version": 3
   },
   "file_extension": ".py",
   "mimetype": "text/x-python",
   "name": "python",
   "nbconvert_exporter": "python",
   "pygments_lexer": "ipython3",
   "version": "3.7.7"
  }
 },
 "nbformat": 4,
 "nbformat_minor": 4
}
