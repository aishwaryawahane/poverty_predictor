{
 "cells": [
  {
   "cell_type": "markdown",
   "metadata": {},
   "source": [
    "# Reading DHS Survey and GPS datasets"
   ]
  },
  {
   "cell_type": "code",
   "execution_count": 1,
   "metadata": {},
   "outputs": [],
   "source": [
    "# Magic commands to enable autoreload of imported packages\n",
    "%load_ext autoreload\n",
    "%autoreload 2"
   ]
  },
  {
   "cell_type": "markdown",
   "metadata": {},
   "source": [
    "Importing the packages we created for getting DHS datasets"
   ]
  },
  {
   "cell_type": "code",
   "execution_count": 2,
   "metadata": {},
   "outputs": [],
   "source": [
    "from poverty_predictor.get_dhsdata import GetDHSData\n",
    "from poverty_predictor.merge_dataframes import merge_dhs"
   ]
  },
  {
   "cell_type": "markdown",
   "metadata": {},
   "source": [
    "Fetching raw DHS - GPS and Survey datasets"
   ]
  },
  {
   "cell_type": "code",
   "execution_count": 3,
   "metadata": {},
   "outputs": [],
   "source": [
    "data = GetDHSData()\n",
    "gps_df = data.gps_df()\n",
    "survey_df = data.survey_df()"
   ]
  },
  {
   "cell_type": "code",
   "execution_count": 4,
   "metadata": {},
   "outputs": [
    {
     "data": {
      "text/html": [
       "<div>\n",
       "<style scoped>\n",
       "    .dataframe tbody tr th:only-of-type {\n",
       "        vertical-align: middle;\n",
       "    }\n",
       "\n",
       "    .dataframe tbody tr th {\n",
       "        vertical-align: top;\n",
       "    }\n",
       "\n",
       "    .dataframe thead th {\n",
       "        text-align: right;\n",
       "    }\n",
       "</style>\n",
       "<table border=\"1\" class=\"dataframe\">\n",
       "  <thead>\n",
       "    <tr style=\"text-align: right;\">\n",
       "      <th></th>\n",
       "      <th>DHSID</th>\n",
       "      <th>DHSCC</th>\n",
       "      <th>DHSYEAR</th>\n",
       "      <th>DHSCLUST</th>\n",
       "      <th>CCFIPS</th>\n",
       "      <th>ADM1FIPS</th>\n",
       "      <th>ADM1FIPSNA</th>\n",
       "      <th>ADM1SALBNA</th>\n",
       "      <th>ADM1SALBCO</th>\n",
       "      <th>ADM1DHS</th>\n",
       "      <th>...</th>\n",
       "      <th>DHSREGCO</th>\n",
       "      <th>DHSREGNA</th>\n",
       "      <th>SOURCE</th>\n",
       "      <th>URBAN_RURA</th>\n",
       "      <th>LATNUM</th>\n",
       "      <th>LONGNUM</th>\n",
       "      <th>ALT_GPS</th>\n",
       "      <th>ALT_DEM</th>\n",
       "      <th>DATUM</th>\n",
       "      <th>geometry</th>\n",
       "    </tr>\n",
       "  </thead>\n",
       "  <tbody>\n",
       "    <tr>\n",
       "      <th>0</th>\n",
       "      <td>RW201000000001</td>\n",
       "      <td>RW</td>\n",
       "      <td>2010.0</td>\n",
       "      <td>1.0</td>\n",
       "      <td>RW</td>\n",
       "      <td>RW15</td>\n",
       "      <td>Southern</td>\n",
       "      <td>NULL</td>\n",
       "      <td>NULL</td>\n",
       "      <td>2.0</td>\n",
       "      <td>...</td>\n",
       "      <td>7.0</td>\n",
       "      <td>Huye</td>\n",
       "      <td>GPS</td>\n",
       "      <td>R</td>\n",
       "      <td>-2.532818</td>\n",
       "      <td>29.684726</td>\n",
       "      <td>1706.0</td>\n",
       "      <td>1702.0</td>\n",
       "      <td>WGS84</td>\n",
       "      <td>POINT (29.68473 -2.53282)</td>\n",
       "    </tr>\n",
       "    <tr>\n",
       "      <th>1</th>\n",
       "      <td>RW201000000002</td>\n",
       "      <td>RW</td>\n",
       "      <td>2010.0</td>\n",
       "      <td>2.0</td>\n",
       "      <td>RW</td>\n",
       "      <td>RW11</td>\n",
       "      <td>Eastern</td>\n",
       "      <td>NULL</td>\n",
       "      <td>NULL</td>\n",
       "      <td>5.0</td>\n",
       "      <td>...</td>\n",
       "      <td>26.0</td>\n",
       "      <td>Gatsibo</td>\n",
       "      <td>GPS</td>\n",
       "      <td>R</td>\n",
       "      <td>-1.833858</td>\n",
       "      <td>30.310689</td>\n",
       "      <td>1631.0</td>\n",
       "      <td>1631.0</td>\n",
       "      <td>WGS84</td>\n",
       "      <td>POINT (30.31069 -1.83386)</td>\n",
       "    </tr>\n",
       "    <tr>\n",
       "      <th>2</th>\n",
       "      <td>RW201000000003</td>\n",
       "      <td>RW</td>\n",
       "      <td>2010.0</td>\n",
       "      <td>3.0</td>\n",
       "      <td>RW</td>\n",
       "      <td>RW14</td>\n",
       "      <td>Western</td>\n",
       "      <td>NULL</td>\n",
       "      <td>NULL</td>\n",
       "      <td>3.0</td>\n",
       "      <td>...</td>\n",
       "      <td>16.0</td>\n",
       "      <td>Ngororero</td>\n",
       "      <td>GPS</td>\n",
       "      <td>R</td>\n",
       "      <td>-1.888155</td>\n",
       "      <td>29.478298</td>\n",
       "      <td>2310.0</td>\n",
       "      <td>2324.0</td>\n",
       "      <td>WGS84</td>\n",
       "      <td>POINT (29.47830 -1.88816)</td>\n",
       "    </tr>\n",
       "    <tr>\n",
       "      <th>3</th>\n",
       "      <td>RW201000000004</td>\n",
       "      <td>RW</td>\n",
       "      <td>2010.0</td>\n",
       "      <td>4.0</td>\n",
       "      <td>RW</td>\n",
       "      <td>RW11</td>\n",
       "      <td>Eastern</td>\n",
       "      <td>NULL</td>\n",
       "      <td>NULL</td>\n",
       "      <td>5.0</td>\n",
       "      <td>...</td>\n",
       "      <td>28.0</td>\n",
       "      <td>Kirehe</td>\n",
       "      <td>GPS</td>\n",
       "      <td>R</td>\n",
       "      <td>-2.366763</td>\n",
       "      <td>30.521692</td>\n",
       "      <td>1388.0</td>\n",
       "      <td>1399.0</td>\n",
       "      <td>WGS84</td>\n",
       "      <td>POINT (30.52169 -2.36676)</td>\n",
       "    </tr>\n",
       "    <tr>\n",
       "      <th>4</th>\n",
       "      <td>RW201000000005</td>\n",
       "      <td>RW</td>\n",
       "      <td>2010.0</td>\n",
       "      <td>5.0</td>\n",
       "      <td>RW</td>\n",
       "      <td>RW11</td>\n",
       "      <td>Eastern</td>\n",
       "      <td>NULL</td>\n",
       "      <td>NULL</td>\n",
       "      <td>5.0</td>\n",
       "      <td>...</td>\n",
       "      <td>30.0</td>\n",
       "      <td>Bugesera</td>\n",
       "      <td>GPS</td>\n",
       "      <td>R</td>\n",
       "      <td>-2.171266</td>\n",
       "      <td>30.018541</td>\n",
       "      <td>1437.0</td>\n",
       "      <td>1445.0</td>\n",
       "      <td>WGS84</td>\n",
       "      <td>POINT (30.01854 -2.17127)</td>\n",
       "    </tr>\n",
       "  </tbody>\n",
       "</table>\n",
       "<p>5 rows × 21 columns</p>\n",
       "</div>"
      ],
      "text/plain": [
       "            DHSID DHSCC  DHSYEAR  DHSCLUST CCFIPS ADM1FIPS ADM1FIPSNA  \\\n",
       "0  RW201000000001    RW   2010.0       1.0     RW     RW15   Southern   \n",
       "1  RW201000000002    RW   2010.0       2.0     RW     RW11    Eastern   \n",
       "2  RW201000000003    RW   2010.0       3.0     RW     RW14    Western   \n",
       "3  RW201000000004    RW   2010.0       4.0     RW     RW11    Eastern   \n",
       "4  RW201000000005    RW   2010.0       5.0     RW     RW11    Eastern   \n",
       "\n",
       "  ADM1SALBNA ADM1SALBCO  ADM1DHS  ... DHSREGCO   DHSREGNA SOURCE URBAN_RURA  \\\n",
       "0       NULL       NULL      2.0  ...      7.0       Huye    GPS          R   \n",
       "1       NULL       NULL      5.0  ...     26.0    Gatsibo    GPS          R   \n",
       "2       NULL       NULL      3.0  ...     16.0  Ngororero    GPS          R   \n",
       "3       NULL       NULL      5.0  ...     28.0     Kirehe    GPS          R   \n",
       "4       NULL       NULL      5.0  ...     30.0   Bugesera    GPS          R   \n",
       "\n",
       "     LATNUM    LONGNUM  ALT_GPS  ALT_DEM  DATUM                   geometry  \n",
       "0 -2.532818  29.684726   1706.0   1702.0  WGS84  POINT (29.68473 -2.53282)  \n",
       "1 -1.833858  30.310689   1631.0   1631.0  WGS84  POINT (30.31069 -1.83386)  \n",
       "2 -1.888155  29.478298   2310.0   2324.0  WGS84  POINT (29.47830 -1.88816)  \n",
       "3 -2.366763  30.521692   1388.0   1399.0  WGS84  POINT (30.52169 -2.36676)  \n",
       "4 -2.171266  30.018541   1437.0   1445.0  WGS84  POINT (30.01854 -2.17127)  \n",
       "\n",
       "[5 rows x 21 columns]"
      ]
     },
     "execution_count": 4,
     "metadata": {},
     "output_type": "execute_result"
    }
   ],
   "source": [
    "gps_df.head()"
   ]
  },
  {
   "cell_type": "code",
   "execution_count": 5,
   "metadata": {},
   "outputs": [
    {
     "data": {
      "text/html": [
       "<div>\n",
       "<style scoped>\n",
       "    .dataframe tbody tr th:only-of-type {\n",
       "        vertical-align: middle;\n",
       "    }\n",
       "\n",
       "    .dataframe tbody tr th {\n",
       "        vertical-align: top;\n",
       "    }\n",
       "\n",
       "    .dataframe thead th {\n",
       "        text-align: right;\n",
       "    }\n",
       "</style>\n",
       "<table border=\"1\" class=\"dataframe\">\n",
       "  <thead>\n",
       "    <tr style=\"text-align: right;\">\n",
       "      <th></th>\n",
       "      <th>hhid</th>\n",
       "      <th>hv000</th>\n",
       "      <th>hv001</th>\n",
       "      <th>hv002</th>\n",
       "      <th>hv003</th>\n",
       "      <th>hv004</th>\n",
       "      <th>hv005</th>\n",
       "      <th>hv006</th>\n",
       "      <th>hv007</th>\n",
       "      <th>hv008</th>\n",
       "      <th>...</th>\n",
       "      <th>sh175_7</th>\n",
       "      <th>sh175_8</th>\n",
       "      <th>sh176_1</th>\n",
       "      <th>sh176_2</th>\n",
       "      <th>sh176_3</th>\n",
       "      <th>sh176_4</th>\n",
       "      <th>sh176_5</th>\n",
       "      <th>sh176_6</th>\n",
       "      <th>sh176_7</th>\n",
       "      <th>sh176_8</th>\n",
       "    </tr>\n",
       "  </thead>\n",
       "  <tbody>\n",
       "    <tr>\n",
       "      <th>0</th>\n",
       "      <td>12115</td>\n",
       "      <td>RW6</td>\n",
       "      <td>121</td>\n",
       "      <td>15</td>\n",
       "      <td>2</td>\n",
       "      <td>121</td>\n",
       "      <td>737365</td>\n",
       "      <td>2</td>\n",
       "      <td>2011</td>\n",
       "      <td>1334</td>\n",
       "      <td>...</td>\n",
       "      <td>NaN</td>\n",
       "      <td>NaN</td>\n",
       "      <td>NaN</td>\n",
       "      <td>NaN</td>\n",
       "      <td>NaN</td>\n",
       "      <td>NaN</td>\n",
       "      <td>NaN</td>\n",
       "      <td>NaN</td>\n",
       "      <td>NaN</td>\n",
       "      <td>NaN</td>\n",
       "    </tr>\n",
       "    <tr>\n",
       "      <th>1</th>\n",
       "      <td>12119</td>\n",
       "      <td>RW6</td>\n",
       "      <td>121</td>\n",
       "      <td>19</td>\n",
       "      <td>1</td>\n",
       "      <td>121</td>\n",
       "      <td>737365</td>\n",
       "      <td>3</td>\n",
       "      <td>2011</td>\n",
       "      <td>1335</td>\n",
       "      <td>...</td>\n",
       "      <td>NaN</td>\n",
       "      <td>NaN</td>\n",
       "      <td>NaN</td>\n",
       "      <td>NaN</td>\n",
       "      <td>NaN</td>\n",
       "      <td>NaN</td>\n",
       "      <td>NaN</td>\n",
       "      <td>NaN</td>\n",
       "      <td>NaN</td>\n",
       "      <td>NaN</td>\n",
       "    </tr>\n",
       "    <tr>\n",
       "      <th>2</th>\n",
       "      <td>12121</td>\n",
       "      <td>RW6</td>\n",
       "      <td>121</td>\n",
       "      <td>21</td>\n",
       "      <td>2</td>\n",
       "      <td>121</td>\n",
       "      <td>737365</td>\n",
       "      <td>2</td>\n",
       "      <td>2011</td>\n",
       "      <td>1334</td>\n",
       "      <td>...</td>\n",
       "      <td>NaN</td>\n",
       "      <td>NaN</td>\n",
       "      <td>NaN</td>\n",
       "      <td>NaN</td>\n",
       "      <td>NaN</td>\n",
       "      <td>NaN</td>\n",
       "      <td>NaN</td>\n",
       "      <td>NaN</td>\n",
       "      <td>NaN</td>\n",
       "      <td>NaN</td>\n",
       "    </tr>\n",
       "    <tr>\n",
       "      <th>3</th>\n",
       "      <td>12116</td>\n",
       "      <td>RW6</td>\n",
       "      <td>121</td>\n",
       "      <td>16</td>\n",
       "      <td>2</td>\n",
       "      <td>121</td>\n",
       "      <td>737365</td>\n",
       "      <td>2</td>\n",
       "      <td>2011</td>\n",
       "      <td>1334</td>\n",
       "      <td>...</td>\n",
       "      <td>NaN</td>\n",
       "      <td>NaN</td>\n",
       "      <td>NaN</td>\n",
       "      <td>NaN</td>\n",
       "      <td>NaN</td>\n",
       "      <td>NaN</td>\n",
       "      <td>NaN</td>\n",
       "      <td>NaN</td>\n",
       "      <td>NaN</td>\n",
       "      <td>NaN</td>\n",
       "    </tr>\n",
       "    <tr>\n",
       "      <th>4</th>\n",
       "      <td>121 3</td>\n",
       "      <td>RW6</td>\n",
       "      <td>121</td>\n",
       "      <td>3</td>\n",
       "      <td>2</td>\n",
       "      <td>121</td>\n",
       "      <td>737365</td>\n",
       "      <td>2</td>\n",
       "      <td>2011</td>\n",
       "      <td>1334</td>\n",
       "      <td>...</td>\n",
       "      <td>NaN</td>\n",
       "      <td>NaN</td>\n",
       "      <td>NaN</td>\n",
       "      <td>NaN</td>\n",
       "      <td>NaN</td>\n",
       "      <td>NaN</td>\n",
       "      <td>NaN</td>\n",
       "      <td>NaN</td>\n",
       "      <td>NaN</td>\n",
       "      <td>NaN</td>\n",
       "    </tr>\n",
       "  </tbody>\n",
       "</table>\n",
       "<p>5 rows × 3396 columns</p>\n",
       "</div>"
      ],
      "text/plain": [
       "           hhid hv000  hv001  hv002 hv003  hv004   hv005  hv006  hv007  hv008  \\\n",
       "0         12115   RW6    121     15     2    121  737365      2   2011   1334   \n",
       "1         12119   RW6    121     19     1    121  737365      3   2011   1335   \n",
       "2         12121   RW6    121     21     2    121  737365      2   2011   1334   \n",
       "3         12116   RW6    121     16     2    121  737365      2   2011   1334   \n",
       "4         121 3   RW6    121      3     2    121  737365      2   2011   1334   \n",
       "\n",
       "   ...  sh175_7  sh175_8  sh176_1  sh176_2  sh176_3  sh176_4 sh176_5  sh176_6  \\\n",
       "0  ...      NaN      NaN      NaN      NaN      NaN      NaN     NaN      NaN   \n",
       "1  ...      NaN      NaN      NaN      NaN      NaN      NaN     NaN      NaN   \n",
       "2  ...      NaN      NaN      NaN      NaN      NaN      NaN     NaN      NaN   \n",
       "3  ...      NaN      NaN      NaN      NaN      NaN      NaN     NaN      NaN   \n",
       "4  ...      NaN      NaN      NaN      NaN      NaN      NaN     NaN      NaN   \n",
       "\n",
       "   sh176_7  sh176_8  \n",
       "0      NaN      NaN  \n",
       "1      NaN      NaN  \n",
       "2      NaN      NaN  \n",
       "3      NaN      NaN  \n",
       "4      NaN      NaN  \n",
       "\n",
       "[5 rows x 3396 columns]"
      ]
     },
     "execution_count": 5,
     "metadata": {},
     "output_type": "execute_result"
    }
   ],
   "source": [
    "survey_df.head()"
   ]
  },
  {
   "cell_type": "markdown",
   "metadata": {},
   "source": [
    "Next, we will merge the two dataframes to get the cluster number, location co-ordinates and wealth scores for each region."
   ]
  },
  {
   "cell_type": "code",
   "execution_count": 6,
   "metadata": {},
   "outputs": [
    {
     "data": {
      "text/html": [
       "<div>\n",
       "<style scoped>\n",
       "    .dataframe tbody tr th:only-of-type {\n",
       "        vertical-align: middle;\n",
       "    }\n",
       "\n",
       "    .dataframe tbody tr th {\n",
       "        vertical-align: top;\n",
       "    }\n",
       "\n",
       "    .dataframe thead th {\n",
       "        text-align: right;\n",
       "    }\n",
       "</style>\n",
       "<table border=\"1\" class=\"dataframe\">\n",
       "  <thead>\n",
       "    <tr style=\"text-align: right;\">\n",
       "      <th></th>\n",
       "      <th>Cluster Number</th>\n",
       "      <th>Latitude</th>\n",
       "      <th>Longitude</th>\n",
       "      <th>Wealth Score</th>\n",
       "    </tr>\n",
       "  </thead>\n",
       "  <tbody>\n",
       "    <tr>\n",
       "      <th>0</th>\n",
       "      <td>1.0</td>\n",
       "      <td>-2.532818</td>\n",
       "      <td>29.684726</td>\n",
       "      <td>-0.386620</td>\n",
       "    </tr>\n",
       "    <tr>\n",
       "      <th>1</th>\n",
       "      <td>2.0</td>\n",
       "      <td>-1.833858</td>\n",
       "      <td>30.310689</td>\n",
       "      <td>-0.421574</td>\n",
       "    </tr>\n",
       "    <tr>\n",
       "      <th>2</th>\n",
       "      <td>3.0</td>\n",
       "      <td>-1.888155</td>\n",
       "      <td>29.478298</td>\n",
       "      <td>-0.449724</td>\n",
       "    </tr>\n",
       "    <tr>\n",
       "      <th>3</th>\n",
       "      <td>4.0</td>\n",
       "      <td>-2.366763</td>\n",
       "      <td>30.521692</td>\n",
       "      <td>-0.390006</td>\n",
       "    </tr>\n",
       "    <tr>\n",
       "      <th>4</th>\n",
       "      <td>5.0</td>\n",
       "      <td>-2.171266</td>\n",
       "      <td>30.018541</td>\n",
       "      <td>-0.416924</td>\n",
       "    </tr>\n",
       "  </tbody>\n",
       "</table>\n",
       "</div>"
      ],
      "text/plain": [
       "   Cluster Number  Latitude  Longitude  Wealth Score\n",
       "0             1.0 -2.532818  29.684726     -0.386620\n",
       "1             2.0 -1.833858  30.310689     -0.421574\n",
       "2             3.0 -1.888155  29.478298     -0.449724\n",
       "3             4.0 -2.366763  30.521692     -0.390006\n",
       "4             5.0 -2.171266  30.018541     -0.416924"
      ]
     },
     "execution_count": 6,
     "metadata": {},
     "output_type": "execute_result"
    }
   ],
   "source": [
    "dhs_data = merge_dhs(gps_df, survey_df)\n",
    "dhs_data.head()"
   ]
  },
  {
   "cell_type": "markdown",
   "metadata": {},
   "source": [
    "## Glancing through the merged DHS dataset"
   ]
  },
  {
   "cell_type": "code",
   "execution_count": 7,
   "metadata": {},
   "outputs": [
    {
     "data": {
      "text/plain": [
       "(492, 4)"
      ]
     },
     "execution_count": 7,
     "metadata": {},
     "output_type": "execute_result"
    }
   ],
   "source": [
    "dhs_data.shape"
   ]
  },
  {
   "cell_type": "code",
   "execution_count": 8,
   "metadata": {},
   "outputs": [
    {
     "data": {
      "text/plain": [
       "Cluster Number    492\n",
       "Latitude          492\n",
       "Longitude         492\n",
       "Wealth Score      492\n",
       "dtype: int64"
      ]
     },
     "execution_count": 8,
     "metadata": {},
     "output_type": "execute_result"
    }
   ],
   "source": [
    "dhs_data.nunique()"
   ]
  },
  {
   "cell_type": "code",
   "execution_count": 9,
   "metadata": {},
   "outputs": [
    {
     "data": {
      "text/plain": [
       "Index(['Cluster Number', 'Latitude', 'Longitude', 'Wealth Score'], dtype='object')"
      ]
     },
     "execution_count": 9,
     "metadata": {},
     "output_type": "execute_result"
    }
   ],
   "source": [
    "dhs_data.columns"
   ]
  },
  {
   "cell_type": "code",
   "execution_count": 10,
   "metadata": {},
   "outputs": [
    {
     "data": {
      "text/plain": [
       "Cluster Number    float64\n",
       "Latitude          float64\n",
       "Longitude         float64\n",
       "Wealth Score      float64\n",
       "dtype: object"
      ]
     },
     "execution_count": 10,
     "metadata": {},
     "output_type": "execute_result"
    }
   ],
   "source": [
    "dhs_data.dtypes"
   ]
  },
  {
   "cell_type": "code",
   "execution_count": 11,
   "metadata": {},
   "outputs": [
    {
     "name": "stdout",
     "output_type": "stream",
     "text": [
      "<class 'pandas.core.frame.DataFrame'>\n",
      "Int64Index: 492 entries, 0 to 491\n",
      "Data columns (total 4 columns):\n",
      " #   Column          Non-Null Count  Dtype  \n",
      "---  ------          --------------  -----  \n",
      " 0   Cluster Number  492 non-null    float64\n",
      " 1   Latitude        492 non-null    float64\n",
      " 2   Longitude       492 non-null    float64\n",
      " 3   Wealth Score    492 non-null    float64\n",
      "dtypes: float64(4)\n",
      "memory usage: 19.2 KB\n"
     ]
    }
   ],
   "source": [
    "dhs_data.info()"
   ]
  }
 ],
 "metadata": {
  "kernelspec": {
   "display_name": "Python 3",
   "language": "python",
   "name": "python3"
  },
  "language_info": {
   "codemirror_mode": {
    "name": "ipython",
    "version": 3
   },
   "file_extension": ".py",
   "mimetype": "text/x-python",
   "name": "python",
   "nbconvert_exporter": "python",
   "pygments_lexer": "ipython3",
   "version": "3.7.7"
  }
 },
 "nbformat": 4,
 "nbformat_minor": 4
}
